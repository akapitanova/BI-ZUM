{
 "cells": [
  {
   "cell_type": "markdown",
   "metadata": {},
   "source": [
    "# Nesystematické prohledávání stavového prostoru\n",
    "## Symetrická úloha obchodního cestujícího (Symetric Travelling Salesman Problem, TSP)\n",
    "Je dána množina měst W a matice C vzdáleností mezi dvojicemi měst z W. Úkolem obchodního cestujícího je projít těmito městy a následně se vrátit do výchozího města s minimálními výdaji na cestu a zároveň navštívit každé město právě jednou.\n",
    "\n",
    "Předpokládejte, že úloha je formulována v Euklidovském prostoru, matice C vzdáleností mezi městy je symetrická, tj. platí c(i,j) = c(j,i) (tj. cestující může mezi městy cestovat oběma směry), a platí trojúhelníková nerovnost c(i,k) < c(i,j) + c(j,k) pro všechna i, j, k z W.\n",
    "\n",
    "S využitím aparátu teorie grafů může být úloha formulována následovně: nechť G = (V,A) je neorientovaný graf. V označuje množinu vrcholů grafu, tyto vrcholy reprezentují města. A je množina hran s nezápornými ohodnoceními, která odpovídají prvkům matice C vzdáleností mezi městy. Úkolem je v daném grafu nalézt nejkratší kružnici, která prochází všemi vrcholy právě jednou (Hamiltonovské kružnice).\n",
    "## Zadání\n",
    "### TSP pomocí algoritmu Hill-Climbing\n",
    "Navrhněte a implementujte řešení problému obchodního cestujícíco pomocí hill-climbing algoritmu.\n",
    "\n",
    "#### Dílčí úkoly:\n",
    "\n",
    "* Navrhněte a implementujte vhodné kódování problému TSP resp. N-královen pro řešení pomocí hill-climbing algoritmu\n",
    "* Navrhněte účelovou funkci\n",
    "* Definujte různé varianty okolí daného stavu\n",
    "* Implementujte metodu na enumeraci stavů v definovaném okolí\n",
    "* Implementujte nějakou metodu na únik z lokálního extrému například restarty\n",
    "* Pro cvičení je připravena šablona.\n",
    "\n",
    "Použití šablony není vyžadováno. Rozhodnete-li se implementovat algoritmus bez šablony, zajistěte vizualizaci průběhu algoritmu v terminálu."
   ]
  },
  {
   "cell_type": "code",
   "execution_count": 1,
   "metadata": {},
   "outputs": [],
   "source": [
    "from csv import reader\n",
    "import copy\n",
    "import random"
   ]
  },
  {
   "cell_type": "markdown",
   "metadata": {},
   "source": [
    "## Nastavení\n",
    "* Nastavte si zde prosím všechny potřebné hodnoty pro hill climbing.\n",
    "* **fileName** = jméno souboru, ze kterého chcete načíst data\n",
    "* **start** = startovní město\n",
    "* **neighboursVariant** = varianta výběru sousedů, může být 1 nebo 2 \n",
    "    * ***1*** Jako sousedy vybere všechny stavy, které jsou odlišné od původního, pouze prohozením vždy dvou, ne nutně sousedních, měst.\n",
    "    * ***2*** Jako sousedy vybere všechny stavy, které jsou odlišné od původního, pouze prohozením vždy jedné dvojice sousedních čísel.\n",
    "* **maxIter** = maximální počet iterací, které má provést Hill Climbing.\n",
    "* **maxRestarts** = maximální počet restartů algoritmu Hill Climbing ve funkci escapeLocalExtreme, která se snaží zabránít uváznutí algoritmu v lokálním extrému."
   ]
  },
  {
   "cell_type": "code",
   "execution_count": 2,
   "metadata": {},
   "outputs": [],
   "source": [
    "# Zde prosím přepište proměnné pokud chcete jiné hodnoty pro výpočet\n",
    "fileName = 'distances-10.csv'\n",
    "start = 'Praha'\n",
    "neighboursVariant = 2\n",
    "maxIter = 1000\n",
    "maxRestarts = 1000"
   ]
  },
  {
   "cell_type": "markdown",
   "metadata": {},
   "source": [
    "## Pomocné funkce"
   ]
  },
  {
   "cell_type": "markdown",
   "metadata": {},
   "source": [
    "### Data from csv file into list of lists"
   ]
  },
  {
   "cell_type": "code",
   "execution_count": 3,
   "metadata": {},
   "outputs": [],
   "source": [
    "def readFile(fileName):\n",
    "    with open(fileName, 'r') as read_distances_10:\n",
    "        csv_reader = reader(read_distances_10)\n",
    "        return list(csv_reader)"
   ]
  },
  {
   "cell_type": "code",
   "execution_count": 4,
   "metadata": {},
   "outputs": [],
   "source": [
    "# Ukázka\n",
    "file = readFile('distances-10.csv')\n",
    "print(str(file))"
   ]
  },
  {
   "cell_type": "markdown",
   "metadata": {},
   "source": [
    "### Make variables cities, distances\n",
    "* cities = List měst\n",
    "* distances = List of List with distances between cities"
   ]
  },
  {
   "cell_type": "code",
   "execution_count": 5,
   "metadata": {},
   "outputs": [],
   "source": [
    "def makeVar(distances_smt):\n",
    "    distances = copy.deepcopy(distances_smt)\n",
    "    cities = [i.pop(0) for i in distances] \n",
    "    return cities, distances"
   ]
  },
  {
   "cell_type": "code",
   "execution_count": 6,
   "metadata": {},
   "outputs": [],
   "source": [
    "# Ukázka\n",
    "cities, distances = makeVar(file)\n",
    "print(distances)\n",
    "print(cities)"
   ]
  },
  {
   "cell_type": "markdown",
   "metadata": {},
   "source": [
    "### Délka cesty - účelová funkce"
   ]
  },
  {
   "cell_type": "code",
   "execution_count": 7,
   "metadata": {},
   "outputs": [],
   "source": [
    "def routeLength(distance, cities, solution):\n",
    "    routeLength = 0\n",
    "    for i in range(1, len(solution)):\n",
    "        routeLength += int(distances[cities.index(solution[i - 1])][cities.index(solution[i])])\n",
    "    return routeLength\n",
    "    "
   ]
  },
  {
   "cell_type": "markdown",
   "metadata": {},
   "source": [
    "### Random first solution"
   ]
  },
  {
   "cell_type": "code",
   "execution_count": 8,
   "metadata": {},
   "outputs": [],
   "source": [
    "def randomState(cities, start):\n",
    "    solution = [start]\n",
    "    cities_solution = copy.deepcopy(cities)\n",
    "    cities_solution.remove(start)\n",
    "    for i in range(len(cities) - 1):\n",
    "        randomCity = cities_solution[random.randint(0, len(cities_solution) - 1)]\n",
    "        solution.append(randomCity)\n",
    "        cities_solution.remove(randomCity)\n",
    "    solution.append(start)\n",
    "    return solution"
   ]
  },
  {
   "cell_type": "code",
   "execution_count": 9,
   "metadata": {},
   "outputs": [
    {
     "name": "stdout",
     "output_type": "stream",
     "text": [
      "['Brno', 'Rijeka', 'Poreč', 'Pula', 'Karlovac', 'Makarská', 'Plitv.jez', 'Dubrovník', 'Praha', 'Lublaň', 'Brno']\n"
     ]
    }
   ],
   "source": [
    "# Ukázka\n",
    "print(randomState(cities, 'Brno'))"
   ]
  },
  {
   "cell_type": "code",
   "execution_count": 10,
   "metadata": {},
   "outputs": [
    {
     "data": {
      "text/plain": [
       "5331"
      ]
     },
     "execution_count": 10,
     "metadata": {},
     "output_type": "execute_result"
    }
   ],
   "source": [
    "# Ukázka\n",
    "routeLength(distances, cities, randomState(cities, 'Brno'))"
   ]
  },
  {
   "cell_type": "markdown",
   "metadata": {},
   "source": [
    "### Neighbours of a solution\n",
    "* Sousední řešení je takové platné řešení, které je pouze málo jiné odlišné vůči součastnému řešení.\n",
    "* 1 Jako sousedy vybere všechny stavy, které jsou odlišné od původního, pouze prohozením vždy dvou, ne nutně sousedních, měst.\n",
    "* 2 Jako sousedy vybere všechny stavy, které jsou odlišné od původního, pouze prohozením vždy jedné dvojice sousedních čísel."
   ]
  },
  {
   "cell_type": "code",
   "execution_count": 11,
   "metadata": {},
   "outputs": [],
   "source": [
    "def getNeighbours_1(solution):\n",
    "    neighbours = []\n",
    "    for i in range(1, len(solution) - 1):\n",
    "        for j in range(i + 1, len(solution) - 1):\n",
    "            neighbour = copy.deepcopy(solution)\n",
    "            neighbour[i] = solution[j]\n",
    "            neighbour[j] = solution[i]\n",
    "            neighbours.append(neighbour)\n",
    "    return neighbours"
   ]
  },
  {
   "cell_type": "code",
   "execution_count": 12,
   "metadata": {},
   "outputs": [],
   "source": [
    "def getNeighbours_2(solution):\n",
    "    neighbours = []\n",
    "    for i in range(1, len(solution) - 2):\n",
    "        neighbour = copy.deepcopy(solution)\n",
    "        neighbour[i] = solution[i + 1]\n",
    "        neighbour[i + 1] = solution[i]\n",
    "        neighbours.append(neighbour)\n",
    "    return neighbours"
   ]
  },
  {
   "cell_type": "code",
   "execution_count": 13,
   "metadata": {},
   "outputs": [],
   "source": [
    "def getNeighbours(solution, variant):\n",
    "    if variant == 1:\n",
    "        return getNeighbours_1(solution)\n",
    "    else:\n",
    "        return getNeighbours_2(solution)"
   ]
  },
  {
   "cell_type": "code",
   "execution_count": 14,
   "metadata": {},
   "outputs": [
    {
     "name": "stdout",
     "output_type": "stream",
     "text": [
      "['Brno', 'Makarská', 'Poreč', 'Pula', 'Praha', 'Rijeka', 'Dubrovník', 'Lublaň', 'Plitv.jez', 'Karlovac', 'Brno']\n"
     ]
    }
   ],
   "source": [
    "# Ukázka\n",
    "solutionExample = randomState(cities, cities[0])\n",
    "print(solutionExample)"
   ]
  },
  {
   "cell_type": "code",
   "execution_count": 15,
   "metadata": {},
   "outputs": [
    {
     "name": "stdout",
     "output_type": "stream",
     "text": [
      "[['Brno', 'Poreč', 'Makarská', 'Pula', 'Praha', 'Rijeka', 'Dubrovník', 'Lublaň', 'Plitv.jez', 'Karlovac', 'Brno'], ['Brno', 'Pula', 'Poreč', 'Makarská', 'Praha', 'Rijeka', 'Dubrovník', 'Lublaň', 'Plitv.jez', 'Karlovac', 'Brno'], ['Brno', 'Praha', 'Poreč', 'Pula', 'Makarská', 'Rijeka', 'Dubrovník', 'Lublaň', 'Plitv.jez', 'Karlovac', 'Brno'], ['Brno', 'Rijeka', 'Poreč', 'Pula', 'Praha', 'Makarská', 'Dubrovník', 'Lublaň', 'Plitv.jez', 'Karlovac', 'Brno'], ['Brno', 'Dubrovník', 'Poreč', 'Pula', 'Praha', 'Rijeka', 'Makarská', 'Lublaň', 'Plitv.jez', 'Karlovac', 'Brno'], ['Brno', 'Lublaň', 'Poreč', 'Pula', 'Praha', 'Rijeka', 'Dubrovník', 'Makarská', 'Plitv.jez', 'Karlovac', 'Brno'], ['Brno', 'Plitv.jez', 'Poreč', 'Pula', 'Praha', 'Rijeka', 'Dubrovník', 'Lublaň', 'Makarská', 'Karlovac', 'Brno'], ['Brno', 'Karlovac', 'Poreč', 'Pula', 'Praha', 'Rijeka', 'Dubrovník', 'Lublaň', 'Plitv.jez', 'Makarská', 'Brno'], ['Brno', 'Makarská', 'Pula', 'Poreč', 'Praha', 'Rijeka', 'Dubrovník', 'Lublaň', 'Plitv.jez', 'Karlovac', 'Brno'], ['Brno', 'Makarská', 'Praha', 'Pula', 'Poreč', 'Rijeka', 'Dubrovník', 'Lublaň', 'Plitv.jez', 'Karlovac', 'Brno'], ['Brno', 'Makarská', 'Rijeka', 'Pula', 'Praha', 'Poreč', 'Dubrovník', 'Lublaň', 'Plitv.jez', 'Karlovac', 'Brno'], ['Brno', 'Makarská', 'Dubrovník', 'Pula', 'Praha', 'Rijeka', 'Poreč', 'Lublaň', 'Plitv.jez', 'Karlovac', 'Brno'], ['Brno', 'Makarská', 'Lublaň', 'Pula', 'Praha', 'Rijeka', 'Dubrovník', 'Poreč', 'Plitv.jez', 'Karlovac', 'Brno'], ['Brno', 'Makarská', 'Plitv.jez', 'Pula', 'Praha', 'Rijeka', 'Dubrovník', 'Lublaň', 'Poreč', 'Karlovac', 'Brno'], ['Brno', 'Makarská', 'Karlovac', 'Pula', 'Praha', 'Rijeka', 'Dubrovník', 'Lublaň', 'Plitv.jez', 'Poreč', 'Brno'], ['Brno', 'Makarská', 'Poreč', 'Praha', 'Pula', 'Rijeka', 'Dubrovník', 'Lublaň', 'Plitv.jez', 'Karlovac', 'Brno'], ['Brno', 'Makarská', 'Poreč', 'Rijeka', 'Praha', 'Pula', 'Dubrovník', 'Lublaň', 'Plitv.jez', 'Karlovac', 'Brno'], ['Brno', 'Makarská', 'Poreč', 'Dubrovník', 'Praha', 'Rijeka', 'Pula', 'Lublaň', 'Plitv.jez', 'Karlovac', 'Brno'], ['Brno', 'Makarská', 'Poreč', 'Lublaň', 'Praha', 'Rijeka', 'Dubrovník', 'Pula', 'Plitv.jez', 'Karlovac', 'Brno'], ['Brno', 'Makarská', 'Poreč', 'Plitv.jez', 'Praha', 'Rijeka', 'Dubrovník', 'Lublaň', 'Pula', 'Karlovac', 'Brno'], ['Brno', 'Makarská', 'Poreč', 'Karlovac', 'Praha', 'Rijeka', 'Dubrovník', 'Lublaň', 'Plitv.jez', 'Pula', 'Brno'], ['Brno', 'Makarská', 'Poreč', 'Pula', 'Rijeka', 'Praha', 'Dubrovník', 'Lublaň', 'Plitv.jez', 'Karlovac', 'Brno'], ['Brno', 'Makarská', 'Poreč', 'Pula', 'Dubrovník', 'Rijeka', 'Praha', 'Lublaň', 'Plitv.jez', 'Karlovac', 'Brno'], ['Brno', 'Makarská', 'Poreč', 'Pula', 'Lublaň', 'Rijeka', 'Dubrovník', 'Praha', 'Plitv.jez', 'Karlovac', 'Brno'], ['Brno', 'Makarská', 'Poreč', 'Pula', 'Plitv.jez', 'Rijeka', 'Dubrovník', 'Lublaň', 'Praha', 'Karlovac', 'Brno'], ['Brno', 'Makarská', 'Poreč', 'Pula', 'Karlovac', 'Rijeka', 'Dubrovník', 'Lublaň', 'Plitv.jez', 'Praha', 'Brno'], ['Brno', 'Makarská', 'Poreč', 'Pula', 'Praha', 'Dubrovník', 'Rijeka', 'Lublaň', 'Plitv.jez', 'Karlovac', 'Brno'], ['Brno', 'Makarská', 'Poreč', 'Pula', 'Praha', 'Lublaň', 'Dubrovník', 'Rijeka', 'Plitv.jez', 'Karlovac', 'Brno'], ['Brno', 'Makarská', 'Poreč', 'Pula', 'Praha', 'Plitv.jez', 'Dubrovník', 'Lublaň', 'Rijeka', 'Karlovac', 'Brno'], ['Brno', 'Makarská', 'Poreč', 'Pula', 'Praha', 'Karlovac', 'Dubrovník', 'Lublaň', 'Plitv.jez', 'Rijeka', 'Brno'], ['Brno', 'Makarská', 'Poreč', 'Pula', 'Praha', 'Rijeka', 'Lublaň', 'Dubrovník', 'Plitv.jez', 'Karlovac', 'Brno'], ['Brno', 'Makarská', 'Poreč', 'Pula', 'Praha', 'Rijeka', 'Plitv.jez', 'Lublaň', 'Dubrovník', 'Karlovac', 'Brno'], ['Brno', 'Makarská', 'Poreč', 'Pula', 'Praha', 'Rijeka', 'Karlovac', 'Lublaň', 'Plitv.jez', 'Dubrovník', 'Brno'], ['Brno', 'Makarská', 'Poreč', 'Pula', 'Praha', 'Rijeka', 'Dubrovník', 'Plitv.jez', 'Lublaň', 'Karlovac', 'Brno'], ['Brno', 'Makarská', 'Poreč', 'Pula', 'Praha', 'Rijeka', 'Dubrovník', 'Karlovac', 'Plitv.jez', 'Lublaň', 'Brno'], ['Brno', 'Makarská', 'Poreč', 'Pula', 'Praha', 'Rijeka', 'Dubrovník', 'Lublaň', 'Karlovac', 'Plitv.jez', 'Brno']]\n"
     ]
    }
   ],
   "source": [
    "# Ukázka\n",
    "neighbours_1 = getNeighbours_1(solutionExample)\n",
    "print(str(neighbours_1))"
   ]
  },
  {
   "cell_type": "code",
   "execution_count": 16,
   "metadata": {},
   "outputs": [
    {
     "name": "stdout",
     "output_type": "stream",
     "text": [
      "[['Brno', 'Poreč', 'Makarská', 'Pula', 'Praha', 'Rijeka', 'Dubrovník', 'Lublaň', 'Plitv.jez', 'Karlovac', 'Brno'], ['Brno', 'Makarská', 'Pula', 'Poreč', 'Praha', 'Rijeka', 'Dubrovník', 'Lublaň', 'Plitv.jez', 'Karlovac', 'Brno'], ['Brno', 'Makarská', 'Poreč', 'Praha', 'Pula', 'Rijeka', 'Dubrovník', 'Lublaň', 'Plitv.jez', 'Karlovac', 'Brno'], ['Brno', 'Makarská', 'Poreč', 'Pula', 'Rijeka', 'Praha', 'Dubrovník', 'Lublaň', 'Plitv.jez', 'Karlovac', 'Brno'], ['Brno', 'Makarská', 'Poreč', 'Pula', 'Praha', 'Dubrovník', 'Rijeka', 'Lublaň', 'Plitv.jez', 'Karlovac', 'Brno'], ['Brno', 'Makarská', 'Poreč', 'Pula', 'Praha', 'Rijeka', 'Lublaň', 'Dubrovník', 'Plitv.jez', 'Karlovac', 'Brno'], ['Brno', 'Makarská', 'Poreč', 'Pula', 'Praha', 'Rijeka', 'Dubrovník', 'Plitv.jez', 'Lublaň', 'Karlovac', 'Brno'], ['Brno', 'Makarská', 'Poreč', 'Pula', 'Praha', 'Rijeka', 'Dubrovník', 'Lublaň', 'Karlovac', 'Plitv.jez', 'Brno']]\n"
     ]
    }
   ],
   "source": [
    "# Ukázka\n",
    "neighbours_2 = getNeighbours_2(solutionExample)\n",
    "print(str(neighbours_2))"
   ]
  },
  {
   "cell_type": "markdown",
   "metadata": {},
   "source": [
    "### Enumerace sousedních stavů a hledání nejlepšího souseda"
   ]
  },
  {
   "cell_type": "code",
   "execution_count": 17,
   "metadata": {},
   "outputs": [],
   "source": [
    "def getBestNeighbour(distances, neighbours):\n",
    "    bestRouteLength = routeLength(distances, cities, neighbours[0])\n",
    "    bestNeighbour = neighbours[0]\n",
    "    for neighbour in neighbours:\n",
    "        currentRouteLength = routeLength(distances, cities, neighbour)\n",
    "        if currentRouteLength < bestRouteLength:\n",
    "            bestRouteLength = currentRouteLength\n",
    "            bestNeighbour = neighbour\n",
    "    return bestNeighbour, bestRouteLength"
   ]
  },
  {
   "cell_type": "markdown",
   "metadata": {},
   "source": [
    "### Hill Climbing"
   ]
  },
  {
   "cell_type": "code",
   "execution_count": 18,
   "metadata": {},
   "outputs": [],
   "source": [
    "def hillClimbing(start, cities, distances, maxIters, neighboursVariant):\n",
    "    firstState = randomState(cities, start)\n",
    "    firstStateLength = routeLength(distances, cities, firstState)\n",
    "    neighbours = getNeighbours(firstState, neighboursVariant)\n",
    "    bestNeighbour, bestNeighbourLength = getBestNeighbour(distances, neighbours)\n",
    "    \n",
    "    i = 0\n",
    "    currentState = firstState\n",
    "    currentStateLenght = firstStateLength\n",
    "    while i < maxIters and  bestNeighbourLength < currentStateLenght:\n",
    "        i += 1\n",
    "        currentState = bestNeighbour\n",
    "        currentStateLenght = bestNeighbourLength\n",
    "        \"\"\" print(str(currentState) + ',\\n' + str(currentStateLenght)) \"\"\"\n",
    "        neighbours = getNeighbours(currentState, neighboursVariant)\n",
    "        bestNeighbour, bestNeighbourLength = getBestNeighbour(distances, neighbours)\n",
    "    \n",
    "    return currentState, currentStateLenght"
   ]
  },
  {
   "cell_type": "code",
   "execution_count": 19,
   "metadata": {},
   "outputs": [
    {
     "name": "stdout",
     "output_type": "stream",
     "text": [
      "(['Brno', 'Praha', 'Karlovac', 'Plitv.jez', 'Makarská', 'Dubrovník', 'Poreč', 'Pula', 'Rijeka', 'Lublaň', 'Brno'], 2817)\n"
     ]
    }
   ],
   "source": [
    "# Ukázka\n",
    "print(hillClimbing('Brno', cities, distances, 100, 1))"
   ]
  },
  {
   "cell_type": "markdown",
   "metadata": {},
   "source": [
    "### Únik z lokálního extrému"
   ]
  },
  {
   "cell_type": "code",
   "execution_count": 20,
   "metadata": {},
   "outputs": [],
   "source": [
    "def escapeLocalExtreme(start, cities, distances, maxIter=100, maxRestarts=100, neighboursVariant=1):\n",
    "    bestState = randomState(cities, start)\n",
    "    bestLength = routeLength(distances, cities, bestState)\n",
    "    \n",
    "    i = 0\n",
    "    while i < maxRestarts:\n",
    "        solution, solutionLength = hillClimbing(start, cities, distances, maxIter, neighboursVariant)\n",
    "        if solutionLength < bestLength:\n",
    "            bestState = solution\n",
    "            print(bestState)\n",
    "            bestLength = solutionLength\n",
    "            print(bestLength)\n",
    "        i += 1"
   ]
  },
  {
   "cell_type": "code",
   "execution_count": 21,
   "metadata": {},
   "outputs": [
    {
     "name": "stdout",
     "output_type": "stream",
     "text": [
      "['Brno', 'Praha', 'Karlovac', 'Lublaň', 'Poreč', 'Pula', 'Rijeka', 'Makarská', 'Dubrovník', 'Plitv.jez', 'Brno']\n",
      "2966\n",
      "['Brno', 'Praha', 'Lublaň', 'Poreč', 'Pula', 'Rijeka', 'Makarská', 'Dubrovník', 'Plitv.jez', 'Karlovac', 'Brno']\n",
      "2795\n"
     ]
    }
   ],
   "source": [
    "# Ukázka\n",
    "escapeLocalExtreme('Brno', cities, distances, 1000, 1000)"
   ]
  },
  {
   "cell_type": "markdown",
   "metadata": {},
   "source": [
    "## Celý program s vašemi daty"
   ]
  },
  {
   "cell_type": "code",
   "execution_count": 22,
   "metadata": {},
   "outputs": [],
   "source": [
    "def program(fileName, start, maxIter, maxRestarts, neighboursVariant):\n",
    "    file = readFile(fileName)\n",
    "    cities, distances = makeVar(file)\n",
    "    escapeLocalExtreme(start, cities, distances, maxIter, maxRestarts, neighboursVariant)"
   ]
  },
  {
   "cell_type": "code",
   "execution_count": 23,
   "metadata": {},
   "outputs": [
    {
     "name": "stdout",
     "output_type": "stream",
     "text": [
      "['Praha', 'Brno', 'Pula', 'Poreč', 'Dubrovník', 'Makarská', 'Plitv.jez', 'Karlovac', 'Rijeka', 'Lublaň', 'Praha']\n",
      "3015\n",
      "['Praha', 'Lublaň', 'Rijeka', 'Pula', 'Poreč', 'Karlovac', 'Dubrovník', 'Makarská', 'Plitv.jez', 'Brno', 'Praha']\n",
      "2988\n",
      "['Praha', 'Lublaň', 'Poreč', 'Pula', 'Rijeka', 'Makarská', 'Dubrovník', 'Plitv.jez', 'Karlovac', 'Brno', 'Praha']\n",
      "2795\n"
     ]
    }
   ],
   "source": [
    "program(fileName, start, maxIter, maxRestarts, neighboursVariant)"
   ]
  }
 ],
 "metadata": {
  "kernelspec": {
   "display_name": "Python 3",
   "language": "python",
   "name": "python3"
  },
  "language_info": {
   "codemirror_mode": {
    "name": "ipython",
    "version": 3
   },
   "file_extension": ".py",
   "mimetype": "text/x-python",
   "name": "python",
   "nbconvert_exporter": "python",
   "pygments_lexer": "ipython3",
   "version": "3.8.5"
  }
 },
 "nbformat": 4,
 "nbformat_minor": 4
}
