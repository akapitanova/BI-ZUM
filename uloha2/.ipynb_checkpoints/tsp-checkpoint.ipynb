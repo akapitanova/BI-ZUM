{
 "cells": [
  {
   "cell_type": "markdown",
   "metadata": {},
   "source": [
    "# Nesystematické prohledávání stavového prostoru\n",
    "## Symetrická úloha obchodního cestujícího (Symetric Travelling Salesman Problem, TSP)\n",
    "Je dána množina měst W a matice C vzdáleností mezi dvojicemi měst z W. Úkolem obchodního cestujícího je projít těmito městy a následně se vrátit do výchozího města s minimálními výdaji na cestu a zároveň navštívit každé město právě jednou.\n",
    "\n",
    "Předpokládejte, že úloha je formulována v Euklidovském prostoru, matice C vzdáleností mezi městy je symetrická, tj. platí c(i,j) = c(j,i) (tj. cestující může mezi městy cestovat oběma směry), a platí trojúhelníková nerovnost c(i,k) < c(i,j) + c(j,k) pro všechna i, j, k z W.\n",
    "\n",
    "S využitím aparátu teorie grafů může být úloha formulována následovně: nechť G = (V,A) je neorientovaný graf. V označuje množinu vrcholů grafu, tyto vrcholy reprezentují města. A je množina hran s nezápornými ohodnoceními, která odpovídají prvkům matice C vzdáleností mezi městy. Úkolem je v daném grafu nalézt nejkratší kružnici, která prochází všemi vrcholy právě jednou (Hamiltonovské kružnice).\n",
    "## Zadání\n",
    "### TSP pomocí algoritmu Hill-Climbing\n",
    "Navrhněte a implementujte řešení problému obchodního cestujícíco pomocí hill-climbing algoritmu.\n",
    "\n",
    "#### Dílčí úkoly:\n",
    "\n",
    "* Navrhněte a implementujte vhodné kódování problému TSP resp. N-královen pro řešení pomocí hill-climbing algoritmu\n",
    "* Navrhněte účelovou funkci\n",
    "* Definujte různé varianty okolí daného stavu\n",
    "* Implementujte metodu na enumeraci stavů v definovaném okolí\n",
    "* Implementujte nějakou metodu na únik z lokálního extrému například restarty\n",
    "* Pro cvičení je připravena šablona.\n",
    "\n",
    "Použití šablony není vyžadováno. Rozhodnete-li se implementovat algoritmus bez šablony, zajistěte vizualizaci průběhu algoritmu v terminálu."
   ]
  },
  {
   "cell_type": "code",
   "execution_count": 1,
   "metadata": {},
   "outputs": [],
   "source": [
    "from csv import reader\n",
    "import copy\n",
    "import random"
   ]
  },
  {
   "cell_type": "markdown",
   "metadata": {},
   "source": [
    "## Nastavení\n",
    "* Nastavte si zde prosím všechny potřebné hodnoty pro hill climbing.\n",
    "* **fileName** = jméno souboru, ze kterého chcete načíst data\n",
    "* **start** = startovní město\n",
    "* **neighboursVariant** = varianta výběru sousedů, může být 1 nebo 2 \n",
    "    * ***1*** Jako sousedy vybere všechny stavy, které jsou odlišné od původního, pouze prohozením vždy dvou, ne nutně sousedních, měst.\n",
    "    * ***2*** Jako sousedy vybere všechny stavy, které jsou odlišné od původního, pouze prohozením vždy jedné dvojice sousedních čísel.\n",
    "* **maxIter** = maximální počet iterací, které má provést Hill Climbing.\n",
    "* **maxRestarts** = maximální počet restartů algoritmu Hill Climbing ve funkci escapeLocalExtreme, která se snaží zabránít uváznutí algoritmu v lokálním extrému."
   ]
  },
  {
   "cell_type": "code",
   "execution_count": 2,
   "metadata": {},
   "outputs": [],
   "source": [
    "# Zde prosím přepište proměnné, pokud chcete jiné hodnoty pro výpočet\n",
    "fileName = 'distances-10.csv'\n",
    "start = 'Praha'\n",
    "neighboursVariant = 2\n",
    "maxIter = 1000\n",
    "maxRestarts = 1000"
   ]
  },
  {
   "cell_type": "markdown",
   "metadata": {},
   "source": [
    "## Pomocné funkce"
   ]
  },
  {
   "cell_type": "markdown",
   "metadata": {},
   "source": [
    "### Data from csv file into list of lists"
   ]
  },
  {
   "cell_type": "code",
   "execution_count": 3,
   "metadata": {},
   "outputs": [],
   "source": [
    "def readFile(fileName):\n",
    "    with open(fileName, 'r') as read_distances_10:\n",
    "        csv_reader = reader(read_distances_10)\n",
    "        return list(csv_reader)"
   ]
  },
  {
   "cell_type": "code",
   "execution_count": 4,
   "metadata": {},
   "outputs": [
    {
     "name": "stdout",
     "output_type": "stream",
     "text": [
      "[['Brno', '0', '1094', '524', '510', '923', '789', '637', '198', '700', '671'], ['Dubrovník', '1094', '0', '541', '723', '144', '599', '456', '1292', '613', '602'], ['Karlovac', '524', '541', '0', '136', '389', '208', '82', '722', '222', '126'], ['Lublaň', '510', '723', '136', '0', '482', '155', '188', '708', '190', '121'], ['Makarská', '923', '144', '386', '482', '0', '455', '281', '1081', '468', '368'], ['Poreč', '789', '599', '208', '155', '455', '0', '220', '877', '56', '118'], ['Plitv.jez', '627', '456', '82', '188', '281', '220', '0', '839', '233', '134'], ['Praha', '198', '1292', '722', '708', '1081', '877', '839', '0', '844', '869'], ['Pula', '700', '612', '222', '190', '468', '56', '233', '844', '0', '104'], ['Rijeka', '671', '602', '126', '121', '368', '118', '134', '869', '104', '0']]\n"
     ]
    }
   ],
   "source": [
    "# Ukázka\n",
    "file = readFile('distances-10.csv')\n",
    "print(str(file))"
   ]
  },
  {
   "cell_type": "markdown",
   "metadata": {},
   "source": [
    "### Make variables cities, distances\n",
    "* cities = List měst\n",
    "* distances = List of List with distances between cities"
   ]
  },
  {
   "cell_type": "code",
   "execution_count": 5,
   "metadata": {},
   "outputs": [],
   "source": [
    "def makeVar(distances_smt):\n",
    "    distances = copy.deepcopy(distances_smt)\n",
    "    cities = [i.pop(0) for i in distances] \n",
    "    return cities, distances"
   ]
  },
  {
   "cell_type": "code",
   "execution_count": 6,
   "metadata": {},
   "outputs": [
    {
     "name": "stdout",
     "output_type": "stream",
     "text": [
      "[['0', '1094', '524', '510', '923', '789', '637', '198', '700', '671'], ['1094', '0', '541', '723', '144', '599', '456', '1292', '613', '602'], ['524', '541', '0', '136', '389', '208', '82', '722', '222', '126'], ['510', '723', '136', '0', '482', '155', '188', '708', '190', '121'], ['923', '144', '386', '482', '0', '455', '281', '1081', '468', '368'], ['789', '599', '208', '155', '455', '0', '220', '877', '56', '118'], ['627', '456', '82', '188', '281', '220', '0', '839', '233', '134'], ['198', '1292', '722', '708', '1081', '877', '839', '0', '844', '869'], ['700', '612', '222', '190', '468', '56', '233', '844', '0', '104'], ['671', '602', '126', '121', '368', '118', '134', '869', '104', '0']]\n",
      "['Brno', 'Dubrovník', 'Karlovac', 'Lublaň', 'Makarská', 'Poreč', 'Plitv.jez', 'Praha', 'Pula', 'Rijeka']\n"
     ]
    }
   ],
   "source": [
    "# Ukázka\n",
    "cities, distances = makeVar(file)\n",
    "print(distances)\n",
    "print(cities)"
   ]
  },
  {
   "cell_type": "markdown",
   "metadata": {},
   "source": [
    "### Délka cesty - účelová funkce"
   ]
  },
  {
   "cell_type": "code",
   "execution_count": 7,
   "metadata": {},
   "outputs": [],
   "source": [
    "def routeLength(distance, cities, solution):\n",
    "    routeLength = 0\n",
    "    for i in range(1, len(solution)):\n",
    "        routeLength += int(distances[cities.index(solution[i - 1])][cities.index(solution[i])])\n",
    "    return routeLength\n",
    "    "
   ]
  },
  {
   "cell_type": "markdown",
   "metadata": {},
   "source": [
    "### Random first solution"
   ]
  },
  {
   "cell_type": "code",
   "execution_count": 8,
   "metadata": {},
   "outputs": [],
   "source": [
    "def randomState(cities, start):\n",
    "    solution = [start]\n",
    "    cities_solution = copy.deepcopy(cities)\n",
    "    cities_solution.remove(start)\n",
    "    for i in range(len(cities) - 1):\n",
    "        randomCity = cities_solution[random.randint(0, len(cities_solution) - 1)]\n",
    "        solution.append(randomCity)\n",
    "        cities_solution.remove(randomCity)\n",
    "    solution.append(start)\n",
    "    return solution"
   ]
  },
  {
   "cell_type": "code",
   "execution_count": 9,
   "metadata": {},
   "outputs": [
    {
     "name": "stdout",
     "output_type": "stream",
     "text": [
      "['Brno', 'Dubrovník', 'Pula', 'Lublaň', 'Rijeka', 'Poreč', 'Praha', 'Karlovac', 'Plitv.jez', 'Makarská', 'Brno']\n"
     ]
    }
   ],
   "source": [
    "# Ukázka\n",
    "print(randomState(cities, 'Brno'))"
   ]
  },
  {
   "cell_type": "code",
   "execution_count": 10,
   "metadata": {},
   "outputs": [
    {
     "data": {
      "text/plain": [
       "3644"
      ]
     },
     "execution_count": 10,
     "metadata": {},
     "output_type": "execute_result"
    }
   ],
   "source": [
    "# Ukázka\n",
    "routeLength(distances, cities, randomState(cities, 'Brno'))"
   ]
  },
  {
   "cell_type": "markdown",
   "metadata": {},
   "source": [
    "### Neighbours of a solution\n",
    "* Sousední řešení je takové platné řešení, které je pouze málo jiné odlišné vůči součastnému řešení.\n",
    "* 1 Jako sousedy vybere všechny stavy, které jsou odlišné od původního, pouze prohozením vždy dvou, ne nutně sousedních, měst.\n",
    "* 2 Jako sousedy vybere všechny stavy, které jsou odlišné od původního, pouze prohozením vždy jedné dvojice sousedních čísel."
   ]
  },
  {
   "cell_type": "code",
   "execution_count": 11,
   "metadata": {},
   "outputs": [],
   "source": [
    "def getNeighbours_1(solution):\n",
    "    neighbours = []\n",
    "    for i in range(1, len(solution) - 1):\n",
    "        for j in range(i + 1, len(solution) - 1):\n",
    "            neighbour = copy.deepcopy(solution)\n",
    "            neighbour[i] = solution[j]\n",
    "            neighbour[j] = solution[i]\n",
    "            neighbours.append(neighbour)\n",
    "    return neighbours"
   ]
  },
  {
   "cell_type": "code",
   "execution_count": 12,
   "metadata": {},
   "outputs": [],
   "source": [
    "def getNeighbours_2(solution):\n",
    "    neighbours = []\n",
    "    for i in range(1, len(solution) - 2):\n",
    "        neighbour = copy.deepcopy(solution)\n",
    "        neighbour[i] = solution[i + 1]\n",
    "        neighbour[i + 1] = solution[i]\n",
    "        neighbours.append(neighbour)\n",
    "    return neighbours"
   ]
  },
  {
   "cell_type": "code",
   "execution_count": 13,
   "metadata": {},
   "outputs": [],
   "source": [
    "def getNeighbours(solution, variant):\n",
    "    if variant == 1:\n",
    "        return getNeighbours_1(solution)\n",
    "    else:\n",
    "        return getNeighbours_2(solution)"
   ]
  },
  {
   "cell_type": "code",
   "execution_count": 14,
   "metadata": {},
   "outputs": [
    {
     "name": "stdout",
     "output_type": "stream",
     "text": [
      "['Brno', 'Dubrovník', 'Pula', 'Karlovac', 'Plitv.jez', 'Poreč', 'Makarská', 'Praha', 'Rijeka', 'Lublaň', 'Brno']\n"
     ]
    }
   ],
   "source": [
    "# Ukázka\n",
    "solutionExample = randomState(cities, cities[0])\n",
    "print(solutionExample)"
   ]
  },
  {
   "cell_type": "code",
   "execution_count": 15,
   "metadata": {},
   "outputs": [
    {
     "name": "stdout",
     "output_type": "stream",
     "text": [
      "[['Brno', 'Pula', 'Dubrovník', 'Karlovac', 'Plitv.jez', 'Poreč', 'Makarská', 'Praha', 'Rijeka', 'Lublaň', 'Brno'], ['Brno', 'Karlovac', 'Pula', 'Dubrovník', 'Plitv.jez', 'Poreč', 'Makarská', 'Praha', 'Rijeka', 'Lublaň', 'Brno'], ['Brno', 'Plitv.jez', 'Pula', 'Karlovac', 'Dubrovník', 'Poreč', 'Makarská', 'Praha', 'Rijeka', 'Lublaň', 'Brno'], ['Brno', 'Poreč', 'Pula', 'Karlovac', 'Plitv.jez', 'Dubrovník', 'Makarská', 'Praha', 'Rijeka', 'Lublaň', 'Brno'], ['Brno', 'Makarská', 'Pula', 'Karlovac', 'Plitv.jez', 'Poreč', 'Dubrovník', 'Praha', 'Rijeka', 'Lublaň', 'Brno'], ['Brno', 'Praha', 'Pula', 'Karlovac', 'Plitv.jez', 'Poreč', 'Makarská', 'Dubrovník', 'Rijeka', 'Lublaň', 'Brno'], ['Brno', 'Rijeka', 'Pula', 'Karlovac', 'Plitv.jez', 'Poreč', 'Makarská', 'Praha', 'Dubrovník', 'Lublaň', 'Brno'], ['Brno', 'Lublaň', 'Pula', 'Karlovac', 'Plitv.jez', 'Poreč', 'Makarská', 'Praha', 'Rijeka', 'Dubrovník', 'Brno'], ['Brno', 'Dubrovník', 'Karlovac', 'Pula', 'Plitv.jez', 'Poreč', 'Makarská', 'Praha', 'Rijeka', 'Lublaň', 'Brno'], ['Brno', 'Dubrovník', 'Plitv.jez', 'Karlovac', 'Pula', 'Poreč', 'Makarská', 'Praha', 'Rijeka', 'Lublaň', 'Brno'], ['Brno', 'Dubrovník', 'Poreč', 'Karlovac', 'Plitv.jez', 'Pula', 'Makarská', 'Praha', 'Rijeka', 'Lublaň', 'Brno'], ['Brno', 'Dubrovník', 'Makarská', 'Karlovac', 'Plitv.jez', 'Poreč', 'Pula', 'Praha', 'Rijeka', 'Lublaň', 'Brno'], ['Brno', 'Dubrovník', 'Praha', 'Karlovac', 'Plitv.jez', 'Poreč', 'Makarská', 'Pula', 'Rijeka', 'Lublaň', 'Brno'], ['Brno', 'Dubrovník', 'Rijeka', 'Karlovac', 'Plitv.jez', 'Poreč', 'Makarská', 'Praha', 'Pula', 'Lublaň', 'Brno'], ['Brno', 'Dubrovník', 'Lublaň', 'Karlovac', 'Plitv.jez', 'Poreč', 'Makarská', 'Praha', 'Rijeka', 'Pula', 'Brno'], ['Brno', 'Dubrovník', 'Pula', 'Plitv.jez', 'Karlovac', 'Poreč', 'Makarská', 'Praha', 'Rijeka', 'Lublaň', 'Brno'], ['Brno', 'Dubrovník', 'Pula', 'Poreč', 'Plitv.jez', 'Karlovac', 'Makarská', 'Praha', 'Rijeka', 'Lublaň', 'Brno'], ['Brno', 'Dubrovník', 'Pula', 'Makarská', 'Plitv.jez', 'Poreč', 'Karlovac', 'Praha', 'Rijeka', 'Lublaň', 'Brno'], ['Brno', 'Dubrovník', 'Pula', 'Praha', 'Plitv.jez', 'Poreč', 'Makarská', 'Karlovac', 'Rijeka', 'Lublaň', 'Brno'], ['Brno', 'Dubrovník', 'Pula', 'Rijeka', 'Plitv.jez', 'Poreč', 'Makarská', 'Praha', 'Karlovac', 'Lublaň', 'Brno'], ['Brno', 'Dubrovník', 'Pula', 'Lublaň', 'Plitv.jez', 'Poreč', 'Makarská', 'Praha', 'Rijeka', 'Karlovac', 'Brno'], ['Brno', 'Dubrovník', 'Pula', 'Karlovac', 'Poreč', 'Plitv.jez', 'Makarská', 'Praha', 'Rijeka', 'Lublaň', 'Brno'], ['Brno', 'Dubrovník', 'Pula', 'Karlovac', 'Makarská', 'Poreč', 'Plitv.jez', 'Praha', 'Rijeka', 'Lublaň', 'Brno'], ['Brno', 'Dubrovník', 'Pula', 'Karlovac', 'Praha', 'Poreč', 'Makarská', 'Plitv.jez', 'Rijeka', 'Lublaň', 'Brno'], ['Brno', 'Dubrovník', 'Pula', 'Karlovac', 'Rijeka', 'Poreč', 'Makarská', 'Praha', 'Plitv.jez', 'Lublaň', 'Brno'], ['Brno', 'Dubrovník', 'Pula', 'Karlovac', 'Lublaň', 'Poreč', 'Makarská', 'Praha', 'Rijeka', 'Plitv.jez', 'Brno'], ['Brno', 'Dubrovník', 'Pula', 'Karlovac', 'Plitv.jez', 'Makarská', 'Poreč', 'Praha', 'Rijeka', 'Lublaň', 'Brno'], ['Brno', 'Dubrovník', 'Pula', 'Karlovac', 'Plitv.jez', 'Praha', 'Makarská', 'Poreč', 'Rijeka', 'Lublaň', 'Brno'], ['Brno', 'Dubrovník', 'Pula', 'Karlovac', 'Plitv.jez', 'Rijeka', 'Makarská', 'Praha', 'Poreč', 'Lublaň', 'Brno'], ['Brno', 'Dubrovník', 'Pula', 'Karlovac', 'Plitv.jez', 'Lublaň', 'Makarská', 'Praha', 'Rijeka', 'Poreč', 'Brno'], ['Brno', 'Dubrovník', 'Pula', 'Karlovac', 'Plitv.jez', 'Poreč', 'Praha', 'Makarská', 'Rijeka', 'Lublaň', 'Brno'], ['Brno', 'Dubrovník', 'Pula', 'Karlovac', 'Plitv.jez', 'Poreč', 'Rijeka', 'Praha', 'Makarská', 'Lublaň', 'Brno'], ['Brno', 'Dubrovník', 'Pula', 'Karlovac', 'Plitv.jez', 'Poreč', 'Lublaň', 'Praha', 'Rijeka', 'Makarská', 'Brno'], ['Brno', 'Dubrovník', 'Pula', 'Karlovac', 'Plitv.jez', 'Poreč', 'Makarská', 'Rijeka', 'Praha', 'Lublaň', 'Brno'], ['Brno', 'Dubrovník', 'Pula', 'Karlovac', 'Plitv.jez', 'Poreč', 'Makarská', 'Lublaň', 'Rijeka', 'Praha', 'Brno'], ['Brno', 'Dubrovník', 'Pula', 'Karlovac', 'Plitv.jez', 'Poreč', 'Makarská', 'Praha', 'Lublaň', 'Rijeka', 'Brno']]\n"
     ]
    }
   ],
   "source": [
    "# Ukázka\n",
    "neighbours_1 = getNeighbours_1(solutionExample)\n",
    "print(str(neighbours_1))"
   ]
  },
  {
   "cell_type": "code",
   "execution_count": 16,
   "metadata": {},
   "outputs": [
    {
     "name": "stdout",
     "output_type": "stream",
     "text": [
      "[['Brno', 'Pula', 'Dubrovník', 'Karlovac', 'Plitv.jez', 'Poreč', 'Makarská', 'Praha', 'Rijeka', 'Lublaň', 'Brno'], ['Brno', 'Dubrovník', 'Karlovac', 'Pula', 'Plitv.jez', 'Poreč', 'Makarská', 'Praha', 'Rijeka', 'Lublaň', 'Brno'], ['Brno', 'Dubrovník', 'Pula', 'Plitv.jez', 'Karlovac', 'Poreč', 'Makarská', 'Praha', 'Rijeka', 'Lublaň', 'Brno'], ['Brno', 'Dubrovník', 'Pula', 'Karlovac', 'Poreč', 'Plitv.jez', 'Makarská', 'Praha', 'Rijeka', 'Lublaň', 'Brno'], ['Brno', 'Dubrovník', 'Pula', 'Karlovac', 'Plitv.jez', 'Makarská', 'Poreč', 'Praha', 'Rijeka', 'Lublaň', 'Brno'], ['Brno', 'Dubrovník', 'Pula', 'Karlovac', 'Plitv.jez', 'Poreč', 'Praha', 'Makarská', 'Rijeka', 'Lublaň', 'Brno'], ['Brno', 'Dubrovník', 'Pula', 'Karlovac', 'Plitv.jez', 'Poreč', 'Makarská', 'Rijeka', 'Praha', 'Lublaň', 'Brno'], ['Brno', 'Dubrovník', 'Pula', 'Karlovac', 'Plitv.jez', 'Poreč', 'Makarská', 'Praha', 'Lublaň', 'Rijeka', 'Brno']]\n"
     ]
    }
   ],
   "source": [
    "# Ukázka\n",
    "neighbours_2 = getNeighbours_2(solutionExample)\n",
    "print(str(neighbours_2))"
   ]
  },
  {
   "cell_type": "markdown",
   "metadata": {},
   "source": [
    "### Enumerace sousedních stavů a hledání nejlepšího souseda"
   ]
  },
  {
   "cell_type": "code",
   "execution_count": 17,
   "metadata": {},
   "outputs": [],
   "source": [
    "def getBestNeighbour(distances, neighbours):\n",
    "    bestRouteLength = routeLength(distances, cities, neighbours[0])\n",
    "    bestNeighbour = neighbours[0]\n",
    "    for neighbour in neighbours:\n",
    "        currentRouteLength = routeLength(distances, cities, neighbour)\n",
    "        if currentRouteLength < bestRouteLength:\n",
    "            bestRouteLength = currentRouteLength\n",
    "            bestNeighbour = neighbour\n",
    "    return bestNeighbour, bestRouteLength"
   ]
  },
  {
   "cell_type": "markdown",
   "metadata": {},
   "source": [
    "### Hill Climbing"
   ]
  },
  {
   "cell_type": "code",
   "execution_count": 18,
   "metadata": {},
   "outputs": [],
   "source": [
    "def hillClimbing(start, cities, distances, maxIters, neighboursVariant):\n",
    "    firstState = randomState(cities, start)\n",
    "    firstStateLength = routeLength(distances, cities, firstState)\n",
    "    neighbours = getNeighbours(firstState, neighboursVariant)\n",
    "    bestNeighbour, bestNeighbourLength = getBestNeighbour(distances, neighbours)\n",
    "    \n",
    "    i = 0\n",
    "    currentState = firstState\n",
    "    currentStateLenght = firstStateLength\n",
    "    while i < maxIters and  bestNeighbourLength < currentStateLenght:\n",
    "        i += 1\n",
    "        currentState = bestNeighbour\n",
    "        currentStateLenght = bestNeighbourLength\n",
    "        \"\"\" print(str(currentState) + ',\\n' + str(currentStateLenght)) \"\"\"\n",
    "        neighbours = getNeighbours(currentState, neighboursVariant)\n",
    "        bestNeighbour, bestNeighbourLength = getBestNeighbour(distances, neighbours)\n",
    "    \n",
    "    return currentState, currentStateLenght, (i+1)"
   ]
  },
  {
   "cell_type": "code",
   "execution_count": 28,
   "metadata": {},
   "outputs": [
    {
     "name": "stdout",
     "output_type": "stream",
     "text": [
      "['Brno', 'Karlovac', 'Plitv.jez', 'Makarská', 'Dubrovník', 'Poreč', 'Pula', 'Rijeka', 'Lublaň', 'Praha', 'Brno']\n",
      "2817\n",
      "pocet iteraci = 7\n"
     ]
    }
   ],
   "source": [
    "# Ukázka\n",
    "currentState, currentStateLenght, i = hillClimbing('Brno', cities, distances, 100, 1)\n",
    "print(currentState)\n",
    "print(currentStateLenght)\n",
    "print(\"pocet iteraci = \" + str(i))"
   ]
  },
  {
   "cell_type": "markdown",
   "metadata": {},
   "source": [
    "### Únik z lokálního extrému"
   ]
  },
  {
   "cell_type": "code",
   "execution_count": 35,
   "metadata": {},
   "outputs": [],
   "source": [
    "def escapeLocalExtreme(start, cities, distances, maxIter=100, maxRestarts=100, neighboursVariant=1):\n",
    "    bestState = randomState(cities, start)\n",
    "    bestLength = routeLength(distances, cities, bestState)\n",
    "    print(\"prvni random state:\")\n",
    "    print(bestState)\n",
    "    print(bestLength)\n",
    "    i = 0\n",
    "    numImp = 0\n",
    "    while i < maxRestarts:\n",
    "        solution, solutionLength, iterNum = hillClimbing(start, cities, distances, maxIter, neighboursVariant)\n",
    "        if solutionLength < bestLength:\n",
    "            numImp += 1\n",
    "            bestState = solution\n",
    "            print(bestState)\n",
    "            bestLength = solutionLength\n",
    "            print(bestLength)\n",
    "            print(\"pocet iteraci = \" + str(iterNum))\n",
    "        i += 1\n",
    "    print(\"celkem pocet zlepseni restartem = \" + str(numImp))"
   ]
  },
  {
   "cell_type": "code",
   "execution_count": 38,
   "metadata": {},
   "outputs": [
    {
     "name": "stdout",
     "output_type": "stream",
     "text": [
      "prvni random state:\n",
      "['Brno', 'Makarská', 'Dubrovník', 'Plitv.jez', 'Rijeka', 'Lublaň', 'Pula', 'Praha', 'Karlovac', 'Poreč', 'Brno']\n",
      "4531\n",
      "['Brno', 'Praha', 'Lublaň', 'Rijeka', 'Karlovac', 'Plitv.jez', 'Makarská', 'Dubrovník', 'Poreč', 'Pula', 'Brno']\n",
      "3015\n",
      "pocet iteraci = 5\n",
      "['Brno', 'Karlovac', 'Plitv.jez', 'Makarská', 'Dubrovník', 'Poreč', 'Pula', 'Rijeka', 'Lublaň', 'Praha', 'Brno']\n",
      "2817\n",
      "pocet iteraci = 6\n",
      "['Brno', 'Praha', 'Karlovac', 'Plitv.jez', 'Dubrovník', 'Makarská', 'Rijeka', 'Pula', 'Poreč', 'Lublaň', 'Brno']\n",
      "2795\n",
      "pocet iteraci = 6\n",
      "celkem pocet zlepseni restartem = 3\n"
     ]
    }
   ],
   "source": [
    "# Ukázka\n",
    "escapeLocalExtreme('Brno', cities, distances, 100, 100)"
   ]
  },
  {
   "cell_type": "markdown",
   "metadata": {},
   "source": [
    "## Celý program s vašemi daty"
   ]
  },
  {
   "cell_type": "code",
   "execution_count": 39,
   "metadata": {},
   "outputs": [],
   "source": [
    "def program(fileName, start, maxIter, maxRestarts, neighboursVariant):\n",
    "    file = readFile(fileName)\n",
    "    cities, distances = makeVar(file)\n",
    "    escapeLocalExtreme(start, cities, distances, maxIter, maxRestarts, neighboursVariant)"
   ]
  },
  {
   "cell_type": "code",
   "execution_count": 41,
   "metadata": {},
   "outputs": [
    {
     "name": "stdout",
     "output_type": "stream",
     "text": [
      "prvni random state:\n",
      "['Praha', 'Rijeka', 'Makarská', 'Poreč', 'Dubrovník', 'Lublaň', 'Brno', 'Karlovac', 'Pula', 'Plitv.jez', 'Praha']\n",
      "5342\n",
      "['Praha', 'Brno', 'Lublaň', 'Poreč', 'Pula', 'Rijeka', 'Plitv.jez', 'Makarská', 'Dubrovník', 'Karlovac', 'Praha']\n",
      "2845\n",
      "pocet iteraci = 8\n",
      "['Praha', 'Lublaň', 'Poreč', 'Pula', 'Rijeka', 'Makarská', 'Dubrovník', 'Plitv.jez', 'Karlovac', 'Brno', 'Praha']\n",
      "2795\n",
      "pocet iteraci = 4\n",
      "celkem pocet zlepseni restartem = 2\n"
     ]
    }
   ],
   "source": [
    "program(fileName, start, maxIter, maxRestarts, neighboursVariant)"
   ]
  },
  {
   "cell_type": "code",
   "execution_count": null,
   "metadata": {},
   "outputs": [],
   "source": []
  }
 ],
 "metadata": {
  "kernelspec": {
   "display_name": "Python 3",
   "language": "python",
   "name": "python3"
  },
  "language_info": {
   "codemirror_mode": {
    "name": "ipython",
    "version": 3
   },
   "file_extension": ".py",
   "mimetype": "text/x-python",
   "name": "python",
   "nbconvert_exporter": "python",
   "pygments_lexer": "ipython3",
   "version": "3.8.5"
  }
 },
 "nbformat": 4,
 "nbformat_minor": 4
}
